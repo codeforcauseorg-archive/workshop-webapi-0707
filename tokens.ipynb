{
 "cells": [
  {
   "cell_type": "code",
   "execution_count": 11,
   "metadata": {},
   "outputs": [],
   "source": [
    "import requests\n",
    "import json\n",
    "\n",
    "url = \"https://api.github.com/user/repos\"\n",
    "\n",
    "token = \"c7a304a46978eeb4c6a29269b28e2515e309b9f6\"\n"
   ]
  },
  {
   "cell_type": "code",
   "execution_count": 18,
   "metadata": {},
   "outputs": [],
   "source": [
    "headers = {\"Authorization\" : \"token {}\".format(token)}"
   ]
  },
  {
   "cell_type": "code",
   "execution_count": 39,
   "metadata": {},
   "outputs": [],
   "source": [
    "data = r'{\"name\": \"high-time\"}'"
   ]
  },
  {
   "cell_type": "code",
   "execution_count": 40,
   "metadata": {},
   "outputs": [
    {
     "data": {
      "text/plain": [
       "'{\"name\": \"high-time\"}'"
      ]
     },
     "execution_count": 40,
     "metadata": {},
     "output_type": "execute_result"
    }
   ],
   "source": [
    "data"
   ]
  },
  {
   "cell_type": "code",
   "execution_count": 42,
   "metadata": {},
   "outputs": [],
   "source": [
    "out = requests.post(url, data=data, headers=headers)"
   ]
  },
  {
   "cell_type": "code",
   "execution_count": 43,
   "metadata": {},
   "outputs": [
    {
     "data": {
      "text/plain": [
       "b'{\"id\":277831539,\"node_id\":\"MDEwOlJlcG9zaXRvcnkyNzc4MzE1Mzk=\",\"name\":\"high-time\",\"full_name\":\"keenwarrior-archive/high-time\",\"private\":false,\"owner\":{\"login\":\"keenwarrior-archive\",\"id\":67959530,\"node_id\":\"MDQ6VXNlcjY3OTU5NTMw\",\"avatar_url\":\"https://avatars0.githubusercontent.com/u/67959530?v=4\",\"gravatar_id\":\"\",\"url\":\"https://api.github.com/users/keenwarrior-archive\",\"html_url\":\"https://github.com/keenwarrior-archive\",\"followers_url\":\"https://api.github.com/users/keenwarrior-archive/followers\",\"following_url\":\"https://api.github.com/users/keenwarrior-archive/following{/other_user}\",\"gists_url\":\"https://api.github.com/users/keenwarrior-archive/gists{/gist_id}\",\"starred_url\":\"https://api.github.com/users/keenwarrior-archive/starred{/owner}{/repo}\",\"subscriptions_url\":\"https://api.github.com/users/keenwarrior-archive/subscriptions\",\"organizations_url\":\"https://api.github.com/users/keenwarrior-archive/orgs\",\"repos_url\":\"https://api.github.com/users/keenwarrior-archive/repos\",\"events_url\":\"https://api.github.com/users/keenwarrior-archive/events{/privacy}\",\"received_events_url\":\"https://api.github.com/users/keenwarrior-archive/received_events\",\"type\":\"User\",\"site_admin\":false},\"html_url\":\"https://github.com/keenwarrior-archive/high-time\",\"description\":null,\"fork\":false,\"url\":\"https://api.github.com/repos/keenwarrior-archive/high-time\",\"forks_url\":\"https://api.github.com/repos/keenwarrior-archive/high-time/forks\",\"keys_url\":\"https://api.github.com/repos/keenwarrior-archive/high-time/keys{/key_id}\",\"collaborators_url\":\"https://api.github.com/repos/keenwarrior-archive/high-time/collaborators{/collaborator}\",\"teams_url\":\"https://api.github.com/repos/keenwarrior-archive/high-time/teams\",\"hooks_url\":\"https://api.github.com/repos/keenwarrior-archive/high-time/hooks\",\"issue_events_url\":\"https://api.github.com/repos/keenwarrior-archive/high-time/issues/events{/number}\",\"events_url\":\"https://api.github.com/repos/keenwarrior-archive/high-time/events\",\"assignees_url\":\"https://api.github.com/repos/keenwarrior-archive/high-time/assignees{/user}\",\"branches_url\":\"https://api.github.com/repos/keenwarrior-archive/high-time/branches{/branch}\",\"tags_url\":\"https://api.github.com/repos/keenwarrior-archive/high-time/tags\",\"blobs_url\":\"https://api.github.com/repos/keenwarrior-archive/high-time/git/blobs{/sha}\",\"git_tags_url\":\"https://api.github.com/repos/keenwarrior-archive/high-time/git/tags{/sha}\",\"git_refs_url\":\"https://api.github.com/repos/keenwarrior-archive/high-time/git/refs{/sha}\",\"trees_url\":\"https://api.github.com/repos/keenwarrior-archive/high-time/git/trees{/sha}\",\"statuses_url\":\"https://api.github.com/repos/keenwarrior-archive/high-time/statuses/{sha}\",\"languages_url\":\"https://api.github.com/repos/keenwarrior-archive/high-time/languages\",\"stargazers_url\":\"https://api.github.com/repos/keenwarrior-archive/high-time/stargazers\",\"contributors_url\":\"https://api.github.com/repos/keenwarrior-archive/high-time/contributors\",\"subscribers_url\":\"https://api.github.com/repos/keenwarrior-archive/high-time/subscribers\",\"subscription_url\":\"https://api.github.com/repos/keenwarrior-archive/high-time/subscription\",\"commits_url\":\"https://api.github.com/repos/keenwarrior-archive/high-time/commits{/sha}\",\"git_commits_url\":\"https://api.github.com/repos/keenwarrior-archive/high-time/git/commits{/sha}\",\"comments_url\":\"https://api.github.com/repos/keenwarrior-archive/high-time/comments{/number}\",\"issue_comment_url\":\"https://api.github.com/repos/keenwarrior-archive/high-time/issues/comments{/number}\",\"contents_url\":\"https://api.github.com/repos/keenwarrior-archive/high-time/contents/{+path}\",\"compare_url\":\"https://api.github.com/repos/keenwarrior-archive/high-time/compare/{base}...{head}\",\"merges_url\":\"https://api.github.com/repos/keenwarrior-archive/high-time/merges\",\"archive_url\":\"https://api.github.com/repos/keenwarrior-archive/high-time/{archive_format}{/ref}\",\"downloads_url\":\"https://api.github.com/repos/keenwarrior-archive/high-time/downloads\",\"issues_url\":\"https://api.github.com/repos/keenwarrior-archive/high-time/issues{/number}\",\"pulls_url\":\"https://api.github.com/repos/keenwarrior-archive/high-time/pulls{/number}\",\"milestones_url\":\"https://api.github.com/repos/keenwarrior-archive/high-time/milestones{/number}\",\"notifications_url\":\"https://api.github.com/repos/keenwarrior-archive/high-time/notifications{?since,all,participating}\",\"labels_url\":\"https://api.github.com/repos/keenwarrior-archive/high-time/labels{/name}\",\"releases_url\":\"https://api.github.com/repos/keenwarrior-archive/high-time/releases{/id}\",\"deployments_url\":\"https://api.github.com/repos/keenwarrior-archive/high-time/deployments\",\"created_at\":\"2020-07-07T13:57:57Z\",\"updated_at\":\"2020-07-07T13:57:57Z\",\"pushed_at\":\"2020-07-07T13:57:58Z\",\"git_url\":\"git://github.com/keenwarrior-archive/high-time.git\",\"ssh_url\":\"git@github.com:keenwarrior-archive/high-time.git\",\"clone_url\":\"https://github.com/keenwarrior-archive/high-time.git\",\"svn_url\":\"https://github.com/keenwarrior-archive/high-time\",\"homepage\":null,\"size\":0,\"stargazers_count\":0,\"watchers_count\":0,\"language\":null,\"has_issues\":true,\"has_projects\":true,\"has_downloads\":true,\"has_wiki\":true,\"has_pages\":false,\"forks_count\":0,\"mirror_url\":null,\"archived\":false,\"disabled\":false,\"open_issues_count\":0,\"license\":null,\"forks\":0,\"open_issues\":0,\"watchers\":0,\"default_branch\":\"master\",\"permissions\":{\"admin\":true,\"push\":true,\"pull\":true},\"allow_squash_merge\":true,\"allow_merge_commit\":true,\"allow_rebase_merge\":true,\"delete_branch_on_merge\":false,\"network_count\":0,\"subscribers_count\":1}'"
      ]
     },
     "execution_count": 43,
     "metadata": {},
     "output_type": "execute_result"
    }
   ],
   "source": [
    "out.content"
   ]
  },
  {
   "cell_type": "code",
   "execution_count": null,
   "metadata": {},
   "outputs": [],
   "source": []
  }
 ],
 "metadata": {
  "kernelspec": {
   "display_name": "Python 3",
   "language": "python",
   "name": "python3"
  },
  "language_info": {
   "codemirror_mode": {
    "name": "ipython",
    "version": 3
   },
   "file_extension": ".py",
   "mimetype": "text/x-python",
   "name": "python",
   "nbconvert_exporter": "python",
   "pygments_lexer": "ipython3",
   "version": "3.7.6"
  }
 },
 "nbformat": 4,
 "nbformat_minor": 4
}
