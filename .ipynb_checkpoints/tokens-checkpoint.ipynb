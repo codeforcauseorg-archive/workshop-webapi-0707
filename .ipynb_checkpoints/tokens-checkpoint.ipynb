{
 "cells": [
  {
   "cell_type": "code",
   "execution_count": 22,
   "metadata": {},
   "outputs": [
    {
     "name": "stdin",
     "output_type": "stream",
     "text": [
      "Please privide your username :  KeenWarrior\n"
     ]
    }
   ],
   "source": [
    "import requests\n",
    "import json\n",
    "\n",
    "url = \"https://api.github.com/users/{}\"\n",
    "\n",
    "username = input(\"Please privide your username : \")\n",
    "\n",
    "output = requests.get(url.format(username))\n",
    "\n",
    "profile = json.loads(output.text)\n",
    "\n",
    "profile[\"name\"]\n",
    "\n",
    "profile[\"avatar_url\"]\n",
    "\n",
    "pic_out = requests.get(profile[\"avatar_url\"])\n",
    "\n",
    "data = pic_out.content\n",
    "\n",
    "f = open(\"{}.png\".format(username), \"wb\")\n",
    "\n",
    "f.write(data)\n",
    "\n",
    "f.close()\n",
    "\n"
   ]
  },
  {
   "cell_type": "code",
   "execution_count": null,
   "metadata": {},
   "outputs": [],
   "source": []
  }
 ],
 "metadata": {
  "kernelspec": {
   "display_name": "Python 3",
   "language": "python",
   "name": "python3"
  },
  "language_info": {
   "codemirror_mode": {
    "name": "ipython",
    "version": 3
   },
   "file_extension": ".py",
   "mimetype": "text/x-python",
   "name": "python",
   "nbconvert_exporter": "python",
   "pygments_lexer": "ipython3",
   "version": "3.7.6"
  }
 },
 "nbformat": 4,
 "nbformat_minor": 4
}
