{
 "cells": [
  {
   "cell_type": "code",
   "execution_count": 5,
   "metadata": {},
   "outputs": [],
   "source": [
    "import requests\n",
    "import json\n",
    "import os\n",
    "\n",
    "url = \"https://api.github.com/users/{}\"\n",
    "\n",
    "li = [\"KeenWarrior\", \"GangaChatrvedi\", \"VartulBahuguna\", \"mrjoshi0147\", \"darecoder1999\"]\n",
    "\n",
    "if not os.path.exists(\"images\"):\n",
    "    os.mkdir(\"images\")\n",
    "\n",
    "for username in li:\n",
    "    output = requests.get(url.format(username))\n",
    "\n",
    "    profile = json.loads(output.text)\n",
    "\n",
    "    profile[\"name\"]\n",
    "\n",
    "    profile[\"avatar_url\"]\n",
    "\n",
    "    pic_out = requests.get(profile[\"avatar_url\"])\n",
    "\n",
    "    data = pic_out.content\n",
    "\n",
    "    f = open(\"images/{}.png\".format(username), \"wb\")\n",
    "\n",
    "    f.write(data)\n",
    "\n",
    "    f.close()\n",
    "\n"
   ]
  },
  {
   "cell_type": "code",
   "execution_count": null,
   "metadata": {},
   "outputs": [],
   "source": []
  }
 ],
 "metadata": {
  "kernelspec": {
   "display_name": "Python 3",
   "language": "python",
   "name": "python3"
  },
  "language_info": {
   "codemirror_mode": {
    "name": "ipython",
    "version": 3
   },
   "file_extension": ".py",
   "mimetype": "text/x-python",
   "name": "python",
   "nbconvert_exporter": "python",
   "pygments_lexer": "ipython3",
   "version": "3.7.6"
  }
 },
 "nbformat": 4,
 "nbformat_minor": 4
}
